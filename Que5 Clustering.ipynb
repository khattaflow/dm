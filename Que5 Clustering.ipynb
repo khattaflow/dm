{
 "cells": [
  {
   "cell_type": "code",
   "execution_count": 1,
   "id": "11134270-b307-4a3c-9933-9a61f303f943",
   "metadata": {},
   "outputs": [
    {
     "ename": "NameError",
     "evalue": "name 'data' is not defined",
     "output_type": "error",
     "traceback": [
      "\u001b[0;31m---------------------------------------------------------------------------\u001b[0m",
      "\u001b[0;31mNameError\u001b[0m                                 Traceback (most recent call last)",
      "Cell \u001b[0;32mIn[1], line 26\u001b[0m\n\u001b[1;32m     23\u001b[0m mse_values \u001b[38;5;241m=\u001b[39m {n_clusters: [] \u001b[38;5;28;01mfor\u001b[39;00m n_clusters \u001b[38;5;129;01min\u001b[39;00m n_clusters_list}\n\u001b[1;32m     25\u001b[0m \u001b[38;5;28;01mfor\u001b[39;00m n_clusters \u001b[38;5;129;01min\u001b[39;00m n_clusters_list:\n\u001b[0;32m---> 26\u001b[0m     kmeans \u001b[38;5;241m=\u001b[39m kmeans_clustering(\u001b[43mdata\u001b[49m, n_clusters, n_init, max_iter)\n\u001b[1;32m     28\u001b[0m     \u001b[38;5;66;03m# Track MSE values after each iteration\u001b[39;00m\n\u001b[1;32m     29\u001b[0m     \u001b[38;5;28;01mfor\u001b[39;00m i \u001b[38;5;129;01min\u001b[39;00m \u001b[38;5;28mrange\u001b[39m(\u001b[38;5;241m1\u001b[39m, max_iter\u001b[38;5;241m+\u001b[39m\u001b[38;5;241m1\u001b[39m):\n",
      "\u001b[0;31mNameError\u001b[0m: name 'data' is not defined"
     ]
    }
   ],
   "source": [
    "from sklearn.cluster import KMeans\n",
    "\n",
    "def kmeans_clustering(data, n_clusters, n_init, max_iter):\n",
    "    kmeans = KMeans(n_clusters=n_clusters, n_init=n_init, max_iter=max_iter, random_state=42)\n",
    "    kmeans.fit(data)\n",
    "    return kmeans\n",
    "\n",
    "# Function to compute MSE after each iteration\n",
    "def compute_mse(data, labels, centroids):\n",
    "    mse = 0\n",
    "    for i in range(len(data)):\n",
    "        centroid = centroids[labels[i]]\n",
    "        mse += np.sum((data[i] - centroid) ** 2)\n",
    "    mse /= len(data)\n",
    "    return mse\n",
    "\n",
    "# Parameters for clustering\n",
    "n_clusters_list = [2, 3, 4]\n",
    "n_init = 10\n",
    "max_iter = 300\n",
    "\n",
    "# Store MSE values\n",
    "mse_values = {n_clusters: [] for n_clusters in n_clusters_list}\n",
    "\n",
    "for n_clusters in n_clusters_list:\n",
    "    kmeans = kmeans_clustering(data, n_clusters, n_init, max_iter)\n",
    "    \n",
    "    # Track MSE values after each iteration\n",
    "    for i in range(1, max_iter+1):\n",
    "        kmeans = KMeans(n_clusters=n_clusters, n_init=n_init, max_iter=i, random_state=42)\n",
    "        kmeans.fit(data)\n",
    "        mse = compute_mse(data, kmeans.labels_, kmeans.cluster_centers_)\n",
    "        mse_values[n_clusters].append(mse)\n",
    "\n",
    "# Plotting MSE values\n",
    "plt.figure(figsize=(10, 6))\n",
    "for n_clusters, mse in mse_values.items():\n",
    "    plt.plot(range(1, max_iter+1), mse, label=f'n_clusters = {n_clusters}')\n",
    "plt.xlabel('Iterations')\n",
    "plt.ylabel('Mean Squared Error')\n",
    "plt.title('MSE vs Iterations for Different Number of Clusters')\n",
    "plt.legend()\n",
    "plt.grid(True)\n",
    "plt.show()"
   ]
  },
  {
   "cell_type": "code",
   "execution_count": null,
   "id": "57f4790f-2762-41d6-9776-8af66a2c514a",
   "metadata": {},
   "outputs": [],
   "source": []
  }
 ],
 "metadata": {
  "kernelspec": {
   "display_name": "anaconda-2024.02-py310",
   "language": "python",
   "name": "conda-env-anaconda-2024.02-py310-py"
  },
  "language_info": {
   "codemirror_mode": {
    "name": "ipython",
    "version": 3
   },
   "file_extension": ".py",
   "mimetype": "text/x-python",
   "name": "python",
   "nbconvert_exporter": "python",
   "pygments_lexer": "ipython3",
   "version": "3.10.14"
  }
 },
 "nbformat": 4,
 "nbformat_minor": 5
}
